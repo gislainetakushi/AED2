{
 "cells": [
  {
   "cell_type": "code",
   "execution_count": 9,
   "id": "5603cb26-94b2-48c5-8b9e-2bdd2f5df47b",
   "metadata": {},
   "outputs": [],
   "source": [
    "#assinatura\n",
    "def busca_binaria(v, lista_ord):\n",
    "    \n",
    "    #inicializar as variáveis\n",
    "    esquerda = 0\n",
    "    direita = len(lista_ord) - 1\n",
    "    \n",
    "     #lopping de repetição\n",
    "    while esquerda <= direita:\n",
    "        \n",
    "     #Encontrar o meio e verificações   \n",
    "        meio = (esquerda + direita) // 2\n",
    "        \n",
    "     #caso não encontrado - retornar -1   \n",
    "        if v == lista_ord[meio]:\n",
    "            return meio\n",
    "        elif v < lista_ord[meio]:\n",
    "            direita = meio - 1\n",
    "        else:\n",
    "          esquerda = meio + 1\n",
    "    return -1"
   ]
  },
  {
   "cell_type": "code",
   "execution_count": 11,
   "id": "e1a438ca-ed5c-45e6-8966-fcc3ca9d807a",
   "metadata": {},
   "outputs": [
    {
     "name": "stdin",
     "output_type": "stream",
     "text": [
      "Digite um valor:  9\n"
     ]
    },
    {
     "name": "stdout",
     "output_type": "stream",
     "text": [
      "O valor 9 existe na lista e está na posição 3\n"
     ]
    }
   ],
   "source": [
    "l = [1,4,7,9,10,12,23,56,78,90]\n",
    "v = int(input(\"Digite um valor: \"))\n",
    "i = busca_binaria (v, l)\n",
    "if i == -1:\n",
    "    print(\"O valor não existe na lista\")\n",
    "else:\n",
    "    print(f\"O valor {v} existe na lista e está na posição {i}\")"
   ]
  },
  {
   "cell_type": "code",
   "execution_count": null,
   "id": "7afabf97-7adb-43fa-a246-d7aae74869ed",
   "metadata": {},
   "outputs": [],
   "source": []
  }
 ],
 "metadata": {
  "kernelspec": {
   "display_name": "Python [conda env:base] *",
   "language": "python",
   "name": "conda-base-py"
  },
  "language_info": {
   "codemirror_mode": {
    "name": "ipython",
    "version": 3
   },
   "file_extension": ".py",
   "mimetype": "text/x-python",
   "name": "python",
   "nbconvert_exporter": "python",
   "pygments_lexer": "ipython3",
   "version": "3.12.7"
  }
 },
 "nbformat": 4,
 "nbformat_minor": 5
}
