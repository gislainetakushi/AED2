{
 "cells": [
  {
   "cell_type": "markdown",
   "id": "c49aec70-41a2-4187-9297-d8dd007ef4e4",
   "metadata": {},
   "source": [
    "Uma equipe de cientistas de dados está trabalhando na análise de um conjunto de dados contendo a taxa de precipitação diária(em milímetros) coletada por diversas estações meteorológicas em uma região. Para identificar padrões e outliers, é crucial que os dados estejam ordenados. Dois algoritmos de ordenação foram considerados para essa tarefa: Bovvle Sort e Selectio Sort.\n",
    "Considere a seguinte lista de taxas de preciptação coletadas em um dia específico:\n",
    "Preciptacao = [5.2, 1.8, 8.5, 3.1, 7.0, 0.9]\n",
    "Após aplicar os algoritmos Bubble Sort e Selection Sort separadamente a essa lista, qual das seguintes afirmações sobre o número de trocas(swaps) realizadas por cada algoritmo é CORRETA?\n",
    "A) O Bubble Sort realiza um número menor de trocas que o Selection Sort\n",
    "B) O Selection Sort realiza um número menor de trocas que o Bubble Sort.\n",
    "C) Ambos os algoritmos realizam o mesmo número de trocas\n",
    "D) O número de trocas realizadas pelo Bubble Sort é sempre constante para qualquer lista de 6 elementos.\n",
    "E) O número de trocas realizadas pelo Selection Sort depende dos valores específicos da lista, mas nunca excede o número de trocas do Bubble Sort para o mesmo conjunto de dados."
   ]
  },
  {
   "cell_type": "code",
   "execution_count": 1,
   "id": "7b620ff0-37db-4814-acc6-690416e84ccc",
   "metadata": {},
   "outputs": [
    {
     "name": "stdin",
     "output_type": "stream",
     "text": [
      "Resposta:  B\n"
     ]
    },
    {
     "data": {
      "text/plain": [
       "'B'"
      ]
     },
     "execution_count": 1,
     "metadata": {},
     "output_type": "execute_result"
    }
   ],
   "source": [
    "input(\"Resposta: \")\n"
   ]
  },
  {
   "cell_type": "code",
   "execution_count": 4,
   "id": "59466fe8-7869-4ab0-8ade-6f719ae3b924",
   "metadata": {},
   "outputs": [
    {
     "name": "stdout",
     "output_type": "stream",
     "text": [
      "Lista ordenada: [0.9, 1.8, 3.1, 5.2, 7.0, 8.5]\n",
      "Total de trocas: 9\n"
     ]
    }
   ],
   "source": [
    "def bubble_sort(lista):\n",
    "    n = len(lista)\n",
    "    trocas = 0  # contador de trocas\n",
    "    for i in range(n):\n",
    "        for j in range(0, n-i-1):\n",
    "            if lista[j] > lista[j+1]:\n",
    "                lista[j], lista[j+1] = lista[j+1], lista[j]\n",
    "                trocas += 1  # conta uma troca\n",
    "    return lista, trocas\n",
    "\n",
    "# Exemplo de uso:\n",
    "precipitacao = [5.2, 1.8, 8.5, 3.1, 7.0, 0.9]\n",
    "lista_ordenada, total_trocas = bubble_sort(precipitacao)\n",
    "print(f\"Lista ordenada: {lista_ordenada}\")\n",
    "print(f\"Total de trocas: {total_trocas}\")"
   ]
  },
  {
   "cell_type": "code",
   "execution_count": 5,
   "id": "07c64e9f-48a1-44a2-93f3-e8be896a8024",
   "metadata": {},
   "outputs": [
    {
     "name": "stdout",
     "output_type": "stream",
     "text": [
      "Lista ordenada: [0.9, 1.8, 3.1, 5.2, 7.0, 8.5]\n",
      "Total de trocas: 3\n"
     ]
    }
   ],
   "source": [
    "def selection_sort(lista):\n",
    "    n = len(lista)\n",
    "    trocas = 0  # contador de trocas\n",
    "    for i in range(n):\n",
    "        min_idx = i\n",
    "        for j in range(i+1, n):\n",
    "            if lista[j] < lista[min_idx]:\n",
    "                min_idx = j\n",
    "        if min_idx != i:\n",
    "            lista[i], lista[min_idx] = lista[min_idx], lista[i]\n",
    "            trocas += 1  # conta uma troca\n",
    "    return lista, trocas\n",
    "\n",
    "# Exemplo de uso:\n",
    "precipitacao = [5.2, 1.8, 8.5, 3.1, 7.0, 0.9]\n",
    "lista_ordenada, total_trocas = selection_sort(precipitacao)\n",
    "print(f\"Lista ordenada: {lista_ordenada}\")\n",
    "print(f\"Total de trocas: {total_trocas}\")"
   ]
  },
  {
   "cell_type": "code",
   "execution_count": null,
   "id": "f87cf6bc-a5d9-41fc-adfc-720f5197f005",
   "metadata": {},
   "outputs": [],
   "source": []
  }
 ],
 "metadata": {
  "kernelspec": {
   "display_name": "Python 3 (ipykernel)",
   "language": "python",
   "name": "python3"
  },
  "language_info": {
   "codemirror_mode": {
    "name": "ipython",
    "version": 3
   },
   "file_extension": ".py",
   "mimetype": "text/x-python",
   "name": "python",
   "nbconvert_exporter": "python",
   "pygments_lexer": "ipython3",
   "version": "3.12.4"
  }
 },
 "nbformat": 4,
 "nbformat_minor": 5
}
