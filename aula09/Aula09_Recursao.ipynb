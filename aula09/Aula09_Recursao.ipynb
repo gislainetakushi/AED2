{
 "cells": [
  {
   "cell_type": "markdown",
   "metadata": {},
   "source": [
    "![Algoritmos e Estrutura de Dados II - Prof Piva](AED2_banner.jpg)"
   ]
  },
  {
   "cell_type": "markdown",
   "metadata": {
    "id": "vN5dGU1I7nNg"
   },
   "source": [
    "## Aula 9 - Recursão"
   ]
  },
  {
   "cell_type": "markdown",
   "metadata": {},
   "source": [
    "![Recursao. Chocolate Droste](recursao.jpg)"
   ]
  },
  {
   "cell_type": "markdown",
   "metadata": {
    "id": "Tqg0Orl18B49"
   },
   "source": [
    "#### Mostrar mensagens"
   ]
  },
  {
   "cell_type": "code",
   "execution_count": 1,
   "metadata": {
    "colab": {
     "base_uri": "https://localhost:8080/",
     "height": 125
    },
    "id": "wVgOQ8ZR_Jkp",
    "outputId": "df36ce26-e239-443a-b0f2-f452a9b98434"
   },
   "outputs": [
    {
     "name": "stdout",
     "output_type": "stream",
     "text": [
      "Recursão\n",
      "Recursão\n",
      "Recursão\n",
      "Recursão\n",
      "Recursão\n"
     ]
    }
   ],
   "source": [
    "for _ in range(5):\n",
    "  print('Recursão')"
   ]
  },
  {
   "cell_type": "code",
   "execution_count": 3,
   "metadata": {
    "id": "Rgs9ln20_cTk"
   },
   "outputs": [],
   "source": [
    "def recursao(i):\n",
    "  print('Recursão')\n",
    "  i += 1\n",
    "  if i == 5:\n",
    "    return\n",
    "  else:\n",
    "    recursao(i)"
   ]
  },
  {
   "cell_type": "code",
   "execution_count": 5,
   "metadata": {
    "colab": {
     "base_uri": "https://localhost:8080/",
     "height": 125
    },
    "id": "qNXqEuSg_hYJ",
    "outputId": "c69c72f8-cd1a-4138-b664-c5f9bb8bf476"
   },
   "outputs": [
    {
     "name": "stdout",
     "output_type": "stream",
     "text": [
      "Recursão\n",
      "Recursão\n",
      "Recursão\n",
      "Recursão\n",
      "Recursão\n"
     ]
    }
   ],
   "source": [
    "recursao(0)"
   ]
  },
  {
   "cell_type": "code",
   "execution_count": 7,
   "metadata": {},
   "outputs": [
    {
     "name": "stdout",
     "output_type": "stream",
     "text": [
      "Recursão\n"
     ]
    }
   ],
   "source": [
    "recursao(4)"
   ]
  },
  {
   "cell_type": "markdown",
   "metadata": {
    "id": "TUD8Y4wkPPZ_"
   },
   "source": [
    "#### Somar valores"
   ]
  },
  {
   "cell_type": "code",
   "execution_count": 9,
   "metadata": {
    "id": "3fnG2UZcI0m2"
   },
   "outputs": [],
   "source": [
    "def soma1(n):# não recursiva\n",
    "  soma = 0\n",
    "  for i in range(n + 1):\n",
    "    soma += i\n",
    "  return soma"
   ]
  },
  {
   "cell_type": "code",
   "execution_count": 11,
   "metadata": {
    "colab": {
     "base_uri": "https://localhost:8080/",
     "height": 55
    },
    "id": "5c8qin57JD2r",
    "outputId": "837fe56c-13bc-40ae-be43-57d5f9f957ff"
   },
   "outputs": [
    {
     "data": {
      "text/plain": [
       "15"
      ]
     },
     "execution_count": 11,
     "metadata": {},
     "output_type": "execute_result"
    }
   ],
   "source": [
    "soma1(5)"
   ]
  },
  {
   "cell_type": "code",
   "execution_count": 13,
   "metadata": {
    "id": "DCxZidZXJH7O"
   },
   "outputs": [],
   "source": [
    "def soma2(n):#recursiva\n",
    "  if n == 0:\n",
    "    return 0\n",
    "\n",
    "  return n + soma2(n - 1)"
   ]
  },
  {
   "cell_type": "code",
   "execution_count": 15,
   "metadata": {
    "colab": {
     "base_uri": "https://localhost:8080/",
     "height": 55
    },
    "id": "r7VtUCruJX6h",
    "outputId": "70ff7f6c-1cab-4df0-8a15-4e43d9a7972b"
   },
   "outputs": [
    {
     "data": {
      "text/plain": [
       "15"
      ]
     },
     "execution_count": 15,
     "metadata": {},
     "output_type": "execute_result"
    }
   ],
   "source": [
    "soma2(5)"
   ]
  },
  {
   "cell_type": "code",
   "execution_count": 17,
   "metadata": {
    "colab": {
     "base_uri": "https://localhost:8080/",
     "height": 55
    },
    "id": "uUgeSIbSJcwh",
    "outputId": "b2d4bf13-d153-41f7-da3a-7d2a9615d3d1"
   },
   "outputs": [
    {
     "name": "stdout",
     "output_type": "stream",
     "text": [
      "2.61 μs ± 80.9 ns per loop (mean ± std. dev. of 7 runs, 100,000 loops each)\n"
     ]
    }
   ],
   "source": [
    "%timeit soma1(100)"
   ]
  },
  {
   "cell_type": "code",
   "execution_count": 19,
   "metadata": {
    "colab": {
     "base_uri": "https://localhost:8080/",
     "height": 55
    },
    "id": "agSmbyzjJmJ9",
    "outputId": "9d3c2715-8144-4fa3-b945-3cd2345b2c1e"
   },
   "outputs": [
    {
     "name": "stdout",
     "output_type": "stream",
     "text": [
      "4.94 μs ± 26.1 ns per loop (mean ± std. dev. of 7 runs, 100,000 loops each)\n"
     ]
    }
   ],
   "source": [
    "%timeit soma2(100)"
   ]
  },
  {
   "cell_type": "markdown",
   "metadata": {},
   "source": [
    "#### Fatorial"
   ]
  },
  {
   "cell_type": "code",
   "execution_count": 41,
   "metadata": {},
   "outputs": [],
   "source": [
    "def fatorial1(n):    #recursiva\n",
    "   if n > 1:\n",
    "      return n * fatorial1(n-1)\n",
    "   else:\n",
    "      return 1"
   ]
  },
  {
   "cell_type": "code",
   "execution_count": 43,
   "metadata": {},
   "outputs": [],
   "source": [
    "def fatorial2(n):   #não recursiva\n",
    "    if n == 0 :        # ou if( n==0 )or( n==1):\n",
    "        return 1\n",
    "    elif n ==1:\n",
    "        return 1\n",
    "    else:\n",
    "        resultado = 1\n",
    "        for i in range(n+1):\n",
    "            resultado *= i\n",
    "        return resultado\n",
    "            "
   ]
  },
  {
   "cell_type": "code",
   "execution_count": 45,
   "metadata": {},
   "outputs": [
    {
     "data": {
      "text/plain": [
       "120"
      ]
     },
     "execution_count": 45,
     "metadata": {},
     "output_type": "execute_result"
    }
   ],
   "source": [
    "fatorial(5)"
   ]
  },
  {
   "cell_type": "code",
   "execution_count": 47,
   "metadata": {},
   "outputs": [
    {
     "name": "stdout",
     "output_type": "stream",
     "text": [
      "7 μs ± 24.9 ns per loop (mean ± std. dev. of 7 runs, 100,000 loops each)\n"
     ]
    }
   ],
   "source": [
    "%timeit fatorial1(100)"
   ]
  },
  {
   "cell_type": "code",
   "execution_count": 48,
   "metadata": {},
   "outputs": [
    {
     "name": "stdout",
     "output_type": "stream",
     "text": [
      "1.48 μs ± 3.26 ns per loop (mean ± std. dev. of 7 runs, 1,000,000 loops each)\n"
     ]
    }
   ],
   "source": [
    "%timeit fatorial2(100)"
   ]
  },
  {
   "cell_type": "markdown",
   "metadata": {},
   "source": [
    "### Fibonacci"
   ]
  },
  {
   "cell_type": "markdown",
   "metadata": {},
   "source": [
    "#### Fibonacci Recursivo"
   ]
  },
  {
   "cell_type": "code",
   "execution_count": 51,
   "metadata": {},
   "outputs": [],
   "source": [
    "def fib(n):\n",
    "    \"\"\"A função Fibonacci recursiva.\"\"\"\n",
    "    if n < 3:\n",
    "        return 1\n",
    "    else:\n",
    "       return fib(n - 1) + fib(n - 2)"
   ]
  },
  {
   "cell_type": "code",
   "execution_count": 61,
   "metadata": {},
   "outputs": [
    {
     "name": "stdout",
     "output_type": "stream",
     "text": [
      "1.38 s ± 6.28 ms per loop (mean ± std. dev. of 7 runs, 1 loop each)\n"
     ]
    }
   ],
   "source": [
    "%timeit fib(36)"
   ]
  },
  {
   "cell_type": "markdown",
   "metadata": {},
   "source": [
    "#### Fibonacci Linear"
   ]
  },
  {
   "cell_type": "code",
   "execution_count": 63,
   "metadata": {},
   "outputs": [],
   "source": [
    "def fibonacci(N):\n",
    "    if N <= 0:\n",
    "        return \"O valor de N deve ser maior que 0\"\n",
    "    elif N == 1:\n",
    "        return 1\n",
    "    elif N == 2:\n",
    "        return 1\n",
    "\n",
    "    sum, first, second = 1, 1, 1\n",
    "    count = 3\n",
    "\n",
    "    while count <= N:\n",
    "        sum = first + second\n",
    "        first = second\n",
    "        second = sum\n",
    "        count += 1\n",
    "\n",
    "    return sum"
   ]
  },
  {
   "cell_type": "code",
   "execution_count": 65,
   "metadata": {},
   "outputs": [],
   "source": [
    "def fib2(n):\n",
    "    for i in range(1, n+1):\n",
    "        fibonacci(i)\n",
    "    return"
   ]
  },
  {
   "cell_type": "code",
   "execution_count": 68,
   "metadata": {},
   "outputs": [
    {
     "name": "stdout",
     "output_type": "stream",
     "text": [
      "26.6 μs ± 234 ns per loop (mean ± std. dev. of 7 runs, 10,000 loops each)\n"
     ]
    }
   ],
   "source": [
    "%timeit fib2(36)"
   ]
  },
  {
   "cell_type": "code",
   "execution_count": null,
   "metadata": {},
   "outputs": [],
   "source": []
  },
  {
   "cell_type": "markdown",
   "metadata": {},
   "source": [
    "## Exercícios"
   ]
  },
  {
   "cell_type": "markdown",
   "metadata": {},
   "source": [
    "#### Exercício 1: Soma de uma Lista\n",
    "Implemente uma função recursiva para calcular a soma dos elementos de uma lista de números inteiros. A função deve receber a lista como parâmetro e retornar a soma dos seus elementos.\n",
    "\n",
    "Descrição:\n",
    "- A função recursiva deve ser chamada repetidamente até que todos os elementos da lista sejam somados.\n",
    "- Caso base: se a lista estiver vazia, o resultado deve ser 0.\n",
    "- Caso recursivo: a soma do primeiro elemento da lista com a soma dos elementos restantes."
   ]
  },
  {
   "cell_type": "code",
   "execution_count": 84,
   "metadata": {},
   "outputs": [],
   "source": [
    "#função recursiva\n",
    "lista=[2,5,20,27,7,12,43]\n",
    "def soma_lista(lista): \n",
    "    if len(lista)==0: #ou if not lista:\n",
    "        return 0\n",
    "    else:\n",
    "        \n",
    "        return lista[0]+soma_lista1(lista[1:])   #tira um elemento da lista, acessando o primeiro elemento que é o 0 e acessa a partir do 1\n",
    "        \n",
    "\n"
   ]
  },
  {
   "cell_type": "code",
   "execution_count": 92,
   "metadata": {},
   "outputs": [
    {
     "name": "stdout",
     "output_type": "stream",
     "text": [
      "A soma é: 116\n"
     ]
    }
   ],
   "source": [
    "soma = soma_lista(lista)\n",
    "print(f\"A soma é: {soma}\")\n"
   ]
  },
  {
   "cell_type": "code",
   "execution_count": 98,
   "metadata": {},
   "outputs": [
    {
     "name": "stdout",
     "output_type": "stream",
     "text": [
      "A soma é : 116\n"
     ]
    }
   ],
   "source": [
    "#não recursiva\n",
    "def soma_lista2 (lista):\n",
    "    soma=0\n",
    "    for numero in lista:\n",
    "        soma+= numero \n",
    "    return soma\n",
    "    \n",
    "numeros = [2,5,20,27,7,12,43]\n",
    "resultado = soma_lista2(numeros)\n",
    "print(f\"A soma é : {resultado}\" )"
   ]
  },
  {
   "cell_type": "code",
   "execution_count": 102,
   "metadata": {},
   "outputs": [
    {
     "name": "stdout",
     "output_type": "stream",
     "text": [
      "A soma é: 116\n"
     ]
    }
   ],
   "source": [
    "#nao recursiva 2\n",
    "def soma_lista2(lista):\n",
    "    soma=0\n",
    "    for i in range (len(lista)):\n",
    "        soma+= lista[i]\n",
    "    return soma\n",
    "soma2 = soma_lista2(lista)\n",
    "print(f\"A soma é: {soma2}\")"
   ]
  },
  {
   "cell_type": "code",
   "execution_count": 106,
   "metadata": {},
   "outputs": [],
   "source": [
    "l = list(range(1000))"
   ]
  },
  {
   "cell_type": "code",
   "execution_count": 108,
   "metadata": {},
   "outputs": [
    {
     "name": "stdout",
     "output_type": "stream",
     "text": [
      "2.41 ms ± 227 μs per loop (mean ± std. dev. of 7 runs, 100 loops each)\n"
     ]
    }
   ],
   "source": [
    "%timeit soma_lista(l)"
   ]
  },
  {
   "cell_type": "code",
   "execution_count": 110,
   "metadata": {},
   "outputs": [
    {
     "name": "stdout",
     "output_type": "stream",
     "text": [
      "39.3 μs ± 498 ns per loop (mean ± std. dev. of 7 runs, 10,000 loops each)\n"
     ]
    }
   ],
   "source": [
    "%timeit soma_lista2(l)"
   ]
  },
  {
   "cell_type": "markdown",
   "metadata": {},
   "source": [
    "#### Exercício 2: Potenciação Recursiva\n",
    "Implemente uma função recursiva para calcular a potência de um número inteiro. A função deve receber dois parâmetros: a base e o expoente, e retornar o resultado da base elevada ao expoente.\n",
    "\n",
    "Descrição:\n",
    "- O caso base ocorre quando o expoente é 0, onde qualquer número elevado a 0 é 1.\n",
    "- O caso recursivo multiplica a base por ela mesma, diminuindo o expoente em 1 a cada chamada recursiva."
   ]
  },
  {
   "cell_type": "code",
   "execution_count": 118,
   "metadata": {},
   "outputs": [],
   "source": [
    "def potencia (base, expoente):\n",
    "    #caso base: qualquer numero elavado a 0 é 1\n",
    "    if expoente == 0: \n",
    "        return 1\n",
    "    else:\n",
    "         # Caso recursivo: base * potência da base com expoente - 1\n",
    "        return base *potencia (base, expoente -1)\n",
    "\n",
    "\n",
    "    "
   ]
  },
  {
   "cell_type": "code",
   "execution_count": 120,
   "metadata": {},
   "outputs": [
    {
     "name": "stdout",
     "output_type": "stream",
     "text": [
      "Resultado da potencia é: 8\n"
     ]
    }
   ],
   "source": [
    "resultado = potencia(2,3)\n",
    "print(f\"Resultado da potencia é: {resultado}\")\n",
    "#ou somente print(potencia(2,3))"
   ]
  },
  {
   "cell_type": "code",
   "execution_count": 126,
   "metadata": {},
   "outputs": [],
   "source": [
    "#não recursiva\n",
    "def potencia2(base,expoente):\n",
    "    p =1\n",
    "    for _ in range (expoente):\n",
    "        p*= base\n",
    "    return p\n",
    "    \n",
    "        "
   ]
  },
  {
   "cell_type": "code",
   "execution_count": 128,
   "metadata": {},
   "outputs": [
    {
     "name": "stdout",
     "output_type": "stream",
     "text": [
      "8\n"
     ]
    }
   ],
   "source": [
    "print(potencia2(2,3))"
   ]
  },
  {
   "cell_type": "markdown",
   "metadata": {},
   "source": [
    "## Fim da Aula 9"
   ]
  }
 ],
 "metadata": {
  "colab": {
   "provenance": []
  },
  "kernelspec": {
   "display_name": "Python [conda env:base] *",
   "language": "python",
   "name": "conda-base-py"
  },
  "language_info": {
   "codemirror_mode": {
    "name": "ipython",
    "version": 3
   },
   "file_extension": ".py",
   "mimetype": "text/x-python",
   "name": "python",
   "nbconvert_exporter": "python",
   "pygments_lexer": "ipython3",
   "version": "3.12.7"
  }
 },
 "nbformat": 4,
 "nbformat_minor": 4
}
