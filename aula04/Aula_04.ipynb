{
 "cells": [
  {
   "cell_type": "code",
   "execution_count": 15,
   "id": "c8f7e8c7-7629-4e5c-92d6-e89bb9327c20",
   "metadata": {},
   "outputs": [],
   "source": [
    "#assinatura \n",
    "def busca_binario(v,lista):\n",
    "    \n",
    "    #inicializar as variáveis\n",
    "    esquerda = 0\n",
    "    direita = len(lista)\n",
    "    \n",
    "    #lopping de repetição\n",
    "    while esquerda <= direita:\n",
    "        \n",
    "    #Encontrar o meio e verificações \n",
    "        meio = (esquerda + direita)//2\n",
    "    \n",
    "    #caso não encontrado - retornar -1\n",
    "        if v == lista[meio]:\n",
    "            return meio\n",
    "            \n",
    "        elif v < lista[meio]:\n",
    "            esquerda = meio -1 \n",
    "            \n",
    "        else:\n",
    "            direita = meio +1\n",
    "    return -1"
   ]
  },
  {
   "cell_type": "code",
   "execution_count": 17,
   "id": "2a400b7f-e5df-440c-8ff5-5e9b8afe5891",
   "metadata": {},
   "outputs": [
    {
     "name": "stdout",
     "output_type": "stream",
     "text": [
      "O valor 7 foi encontrado na posição 6 !\n"
     ]
    }
   ],
   "source": [
    "\n",
    "lista = [1, 2, 3, 4, 5, 6, 7, 8, 9, 10, 11, 12, 13]\n",
    "i = busca_binario(7, lista)\n",
    "if i != -1:\n",
    "    print(f\"O valor {lista[i]} foi encontrado na posição {i} !\")\n",
    "else:\n",
    "    print(\"O valor não foi encontrado!\")"
   ]
  },
  {
   "cell_type": "code",
   "execution_count": null,
   "id": "82a5ad98-c1e4-403a-88d9-c17822be9f87",
   "metadata": {},
   "outputs": [],
   "source": []
  }
 ],
 "metadata": {
  "kernelspec": {
   "display_name": "Python 3 (ipykernel)",
   "language": "python",
   "name": "python3"
  },
  "language_info": {
   "codemirror_mode": {
    "name": "ipython",
    "version": 3
   },
   "file_extension": ".py",
   "mimetype": "text/x-python",
   "name": "python",
   "nbconvert_exporter": "python",
   "pygments_lexer": "ipython3",
   "version": "3.12.4"
  }
 },
 "nbformat": 4,
 "nbformat_minor": 5
}
