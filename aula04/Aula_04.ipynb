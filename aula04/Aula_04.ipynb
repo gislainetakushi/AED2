{
 "cells": [
  {
   "cell_type": "code",
   "execution_count": null,
   "id": "c8f7e8c7-7629-4e5c-92d6-e89bb9327c20",
   "metadata": {},
   "outputs": [],
   "source": [
    "#assinatura \n",
    "def busca_binario(v,lista):\n",
    "    \n",
    "    #inicializar as variáveis\n",
    "    esquerda = 0\n",
    "    direita = len(lista)\n",
    "    \n",
    "    #lopping de repetição\n",
    "    while esquerda <= direita:\n",
    "        \n",
    "    #Encontrar o meio e verificações \n",
    "        meio = (esqueda + direita)//2\n",
    "    \n",
    "    #caso não encontrado - retornar -1\n",
    "        if v == lista[meio]:\n",
    "            return meio\n",
    "            \n",
    "        elif v < lista[meio]:\n",
    "            esquerda = meio -1 \n",
    "            \n",
    "        else:\n",
    "            direita = meio +1\n",
    "    return -1"
   ]
  }
 ],
 "metadata": {
  "kernelspec": {
   "display_name": "Python [conda env:base] *",
   "language": "python",
   "name": "conda-base-py"
  },
  "language_info": {
   "codemirror_mode": {
    "name": "ipython",
    "version": 3
   },
   "file_extension": ".py",
   "mimetype": "text/x-python",
   "name": "python",
   "nbconvert_exporter": "python",
   "pygments_lexer": "ipython3",
   "version": "3.12.7"
  }
 },
 "nbformat": 4,
 "nbformat_minor": 5
}
