{
 "cells": [
  {
   "cell_type": "markdown",
   "id": "155e7088-fa1b-4ba3-81f8-81c26ee34104",
   "metadata": {},
   "source": [
    "Uma equipe de cientistas de dados está trabalhando na análise de um conjunto de dados contendo a taxa de precipitação diária (em milímetros) coletada por diversas estações meteorológicas em uma região. Para identificar padrões e outliers, é crucial que os dados estejam ordenados. Dois algoritmos de ordenação foram considerados para essa tarefa: Bubble Sort e Selection Sort.\n",
    "Considere a seguinte lista de taxas de precipitação coletadas em um dia específico:\n",
    "precipitacao = [5.2, 1.8, 8.5, 3.1, 7.0, 0.9]\n",
    "Após aplicar os algoritmos Bubble Sort e Selection Sort separadamente a essa lista, qual das seguintes afirmações sobre o número de trocas (swaps) realizadas por cada algoritmo é CORRETA?\n",
    "A) O Bubble Sort realiza um número menor de trocas que o Selection Sort. \n",
    "B) O Selection Sort realiza um número menor de trocas que o Bubble Sort. \n",
    "C) Ambos os algoritmos realizam o mesmo número de trocas.\n",
    "D) O número de trocas realizadas pelo Bubble Sort é sempre constante para qualquer lista de 6 elementos. \n",
    "E) O número de trocas realizadas pelo Selection Sort depende dos valores específicos da lista, mas nunca excede o número de trocas do Bubble Sort para o mesmo conjunto de dados.\n",
    "\n"
   ]
  },
  {
   "cell_type": "code",
   "execution_count": null,
   "id": "c94a61a2-a688-48e9-b70f-22ea21b855a9",
   "metadata": {},
   "outputs": [],
   "source": []
  }
 ],
 "metadata": {
  "kernelspec": {
   "display_name": "Python [conda env:base] *",
   "language": "python",
   "name": "conda-base-py"
  },
  "language_info": {
   "codemirror_mode": {
    "name": "ipython",
    "version": 3
   },
   "file_extension": ".py",
   "mimetype": "text/x-python",
   "name": "python",
   "nbconvert_exporter": "python",
   "pygments_lexer": "ipython3",
   "version": "3.12.7"
  }
 },
 "nbformat": 4,
 "nbformat_minor": 5
}
